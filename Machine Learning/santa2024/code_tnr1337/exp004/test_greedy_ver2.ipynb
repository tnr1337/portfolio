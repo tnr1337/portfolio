{
 "cells": [
  {
   "cell_type": "code",
   "execution_count": 1,
   "metadata": {},
   "outputs": [],
   "source": [
    "from pathlib import Path\n",
    "import pandas as pd\n",
    "\n",
    "path_input_csv = Path(\"../../input/santa-2024/sample_submission.csv\")\n",
    "path_save = Path(\"./save\")\n",
    "path_save.mkdir(parents=True, exist_ok=True)\n",
    "path_model = Path(\"../../input/gemma-2/\")\n",
    "\n",
    "df = pd.read_csv(path_input_csv)\n"
   ]
  },
  {
   "cell_type": "code",
   "execution_count": 2,
   "metadata": {},
   "outputs": [
    {
     "name": "stderr",
     "output_type": "stream",
     "text": [
      "/home/khorie/anaconda3/envs/kaggle3.11-3/lib/python3.11/site-packages/tqdm/auto.py:21: TqdmWarning: IProgress not found. Please update jupyter and ipywidgets. See https://ipywidgets.readthedocs.io/en/stable/user_install.html\n",
      "  from .autonotebook import tqdm as notebook_tqdm\n",
      "Loading checkpoint shards: 100%|██████████| 8/8 [00:07<00:00,  1.05it/s]\n"
     ]
    }
   ],
   "source": [
    "from evaluation import PerplexityCalculator\n",
    "\n",
    "calculator = PerplexityCalculator(model_path=str(path_model))"
   ]
  },
  {
   "cell_type": "code",
   "execution_count": 3,
   "metadata": {},
   "outputs": [
    {
     "name": "stdout",
     "output_type": "stream",
     "text": [
      "number of words: 10\n"
     ]
    },
    {
     "name": "stderr",
     "output_type": "stream",
     "text": [
      " 11%|█         | 1/9 [00:14<01:57, 14.70s/it]"
     ]
    },
    {
     "name": "stdout",
     "output_type": "stream",
     "text": [
      "gain: 9748.206139080066\n",
      "total score: 282.9190\n",
      "['scrooge'] + ['reindeer']\n"
     ]
    },
    {
     "name": "stderr",
     "output_type": "stream",
     "text": [
      " 22%|██▏       | 2/9 [00:18<00:58,  8.36s/it]"
     ]
    },
    {
     "name": "stdout",
     "output_type": "stream",
     "text": [
      "gain: 196.35273349210138\n",
      "total score: 86.5662\n",
      "['gingerbread', 'mistletoe'] + ['scrooge']\n"
     ]
    },
    {
     "name": "stderr",
     "output_type": "stream",
     "text": [
      " 33%|███▎      | 3/9 [00:23<00:39,  6.66s/it]"
     ]
    },
    {
     "name": "stdout",
     "output_type": "stream",
     "text": [
      "gain: 55.00916866027889\n",
      "total score: 31.5571\n",
      "['chimney', 'gingerbread', 'mistletoe'] + ['scrooge']\n"
     ]
    },
    {
     "name": "stderr",
     "output_type": "stream",
     "text": [
      " 44%|████▍     | 4/9 [00:28<00:30,  6.03s/it]"
     ]
    },
    {
     "name": "stdout",
     "output_type": "stream",
     "text": [
      "gain: 7.77959538873674\n",
      "total score: 23.7775\n",
      "['chimney', 'gingerbread', 'mistletoe', 'fireplace'] + ['scrooge']\n"
     ]
    },
    {
     "name": "stderr",
     "output_type": "stream",
     "text": [
      " 56%|█████▌    | 5/9 [00:31<00:19,  4.92s/it]"
     ]
    },
    {
     "name": "stdout",
     "output_type": "stream",
     "text": [
      "gain: 7.7497407373801614\n",
      "total score: 16.0277\n",
      "['ornament', 'reindeer'] + ['chimney', 'gingerbread', 'mistletoe', 'fireplace']\n"
     ]
    },
    {
     "name": "stderr",
     "output_type": "stream",
     "text": [
      " 67%|██████▋   | 6/9 [00:36<00:14,  4.85s/it]"
     ]
    },
    {
     "name": "stdout",
     "output_type": "stream",
     "text": [
      "gain: 3.27100360895854\n",
      "total score: 12.7567\n",
      "['chimney', 'gingerbread', 'mistletoe', 'ornament', 'reindeer', 'fireplace'] + ['scrooge']\n"
     ]
    },
    {
     "name": "stderr",
     "output_type": "stream",
     "text": [
      " 78%|███████▊  | 7/9 [00:38<00:08,  4.04s/it]"
     ]
    },
    {
     "name": "stdout",
     "output_type": "stream",
     "text": [
      "gain: 1.2128709348376043\n",
      "total score: 11.5439\n",
      "['scrooge', 'family'] + ['chimney', 'gingerbread', 'mistletoe', 'ornament', 'reindeer', 'fireplace']\n"
     ]
    },
    {
     "name": "stderr",
     "output_type": "stream",
     "text": [
      " 89%|████████▉ | 8/9 [00:40<00:03,  3.46s/it]"
     ]
    },
    {
     "name": "stdout",
     "output_type": "stream",
     "text": [
      "gain: 2.073484730251876\n",
      "total score: 9.4704\n",
      "['scrooge', 'advent', 'family'] + ['chimney', 'gingerbread', 'mistletoe', 'ornament', 'reindeer', 'fireplace']\n"
     ]
    },
    {
     "name": "stderr",
     "output_type": "stream",
     "text": [
      "100%|██████████| 9/9 [00:42<00:00,  4.70s/it]"
     ]
    },
    {
     "name": "stdout",
     "output_type": "stream",
     "text": [
      "gain: -26.04280308876031\n",
      "total score: 35.5132\n",
      "['scrooge', 'advent', 'elf', 'family'] + ['chimney', 'gingerbread', 'mistletoe', 'ornament', 'reindeer', 'fireplace']\n",
      "score:35.5132\n",
      "number of words: 20\n"
     ]
    },
    {
     "name": "stderr",
     "output_type": "stream",
     "text": [
      "\n",
      "  5%|▌         | 1/19 [00:46<14:01, 46.77s/it]"
     ]
    },
    {
     "name": "stdout",
     "output_type": "stream",
     "text": [
      "gain: 9873.899063430837\n",
      "total score: 1425.5060\n",
      "['and'] + ['laugh']\n"
     ]
    },
    {
     "name": "stderr",
     "output_type": "stream",
     "text": [
      " 11%|█         | 2/19 [00:55<06:55, 24.46s/it]"
     ]
    },
    {
     "name": "stdout",
     "output_type": "stream",
     "text": [
      "gain: 1199.893818598337\n",
      "total score: 225.6122\n",
      "['mistletoe', 'walk'] + ['and']\n"
     ]
    },
    {
     "name": "stderr",
     "output_type": "stream",
     "text": [
      " 16%|█▌        | 3/19 [01:06<04:54, 18.38s/it]"
     ]
    },
    {
     "name": "stdout",
     "output_type": "stream",
     "text": [
      "gain: 149.80945339656668\n",
      "total score: 75.8028\n",
      "['mistletoe', 'walk', 'gingerbread'] + ['and']\n"
     ]
    },
    {
     "name": "stderr",
     "output_type": "stream",
     "text": [
      " 21%|██        | 4/19 [01:19<04:04, 16.33s/it]"
     ]
    },
    {
     "name": "stdout",
     "output_type": "stream",
     "text": [
      "gain: 30.76688144286918\n",
      "total score: 45.0359\n",
      "['ornament', 'mistletoe', 'walk', 'gingerbread'] + ['and']\n"
     ]
    },
    {
     "name": "stderr",
     "output_type": "stream",
     "text": [
      " 26%|██▋       | 5/19 [01:34<03:40, 15.77s/it]"
     ]
    },
    {
     "name": "stdout",
     "output_type": "stream",
     "text": [
      "gain: 9.672552744468215\n",
      "total score: 35.3633\n",
      "['ornament', 'mistletoe', 'walk', 'gingerbread', 'fireplace'] + ['and']\n"
     ]
    },
    {
     "name": "stderr",
     "output_type": "stream",
     "text": [
      " 32%|███▏      | 6/19 [01:42<02:48, 12.96s/it]"
     ]
    },
    {
     "name": "stdout",
     "output_type": "stream",
     "text": [
      "gain: 6.944952848718014\n",
      "total score: 28.4184\n",
      "['drive', 'chimney'] + ['ornament', 'mistletoe', 'walk', 'gingerbread', 'fireplace']\n"
     ]
    },
    {
     "name": "stderr",
     "output_type": "stream",
     "text": [
      " 37%|███▋      | 7/19 [01:57<02:44, 13.68s/it]"
     ]
    },
    {
     "name": "stdout",
     "output_type": "stream",
     "text": [
      "gain: 3.511791396434983\n",
      "total score: 24.9066\n",
      "['ornament', 'mistletoe', 'reindeer', 'walk', 'gingerbread', 'fireplace'] + ['drive', 'chimney']\n"
     ]
    },
    {
     "name": "stderr",
     "output_type": "stream",
     "text": [
      " 42%|████▏     | 8/19 [02:15<02:47, 15.23s/it]"
     ]
    },
    {
     "name": "stdout",
     "output_type": "stream",
     "text": [
      "gain: 3.27100360895854\n",
      "total score: 21.6356\n",
      "['ornament', 'mistletoe', 'reindeer', 'walk', 'gingerbread', 'drive', 'chimney', 'fireplace'] + ['and']\n"
     ]
    },
    {
     "name": "stderr",
     "output_type": "stream",
     "text": [
      " 47%|████▋     | 9/19 [02:22<02:04, 12.44s/it]"
     ]
    },
    {
     "name": "stdout",
     "output_type": "stream",
     "text": [
      "gain: 2.56902179081825\n",
      "total score: 19.0666\n",
      "['scrooge', 'family'] + ['ornament', 'mistletoe', 'reindeer', 'walk', 'gingerbread', 'drive', 'chimney', 'fireplace']\n"
     ]
    },
    {
     "name": "stderr",
     "output_type": "stream",
     "text": [
      " 53%|█████▎    | 10/19 [02:40<02:07, 14.19s/it]"
     ]
    },
    {
     "name": "stdout",
     "output_type": "stream",
     "text": [
      "gain: 1.985804019979219\n",
      "total score: 17.0808\n",
      "['ornament', 'mistletoe', 'reindeer', 'walk', 'gingerbread', 'drive', 'chimney', 'fireplace', 'elf'] + ['scrooge', 'family']\n"
     ]
    },
    {
     "name": "stderr",
     "output_type": "stream",
     "text": [
      " 58%|█████▊    | 11/19 [02:58<02:02, 15.29s/it]"
     ]
    },
    {
     "name": "stdout",
     "output_type": "stream",
     "text": [
      "gain: 1.6266202846294455\n",
      "total score: 15.4541\n",
      "['ornament', 'mistletoe', 'reindeer', 'walk', 'and', 'gingerbread', 'drive', 'chimney', 'fireplace', 'elf'] + ['scrooge', 'family']\n"
     ]
    },
    {
     "name": "stderr",
     "output_type": "stream",
     "text": [
      " 63%|██████▎   | 12/19 [03:03<01:26, 12.42s/it]"
     ]
    },
    {
     "name": "stdout",
     "output_type": "stream",
     "text": [
      "gain: 1.3763702571682357\n",
      "total score: 14.0778\n",
      "['the', 'jump'] + ['ornament', 'mistletoe', 'reindeer', 'walk', 'and', 'gingerbread', 'drive', 'chimney', 'fireplace', 'elf']\n"
     ]
    },
    {
     "name": "stderr",
     "output_type": "stream",
     "text": [
      " 68%|██████▊   | 13/19 [03:10<01:04, 10.76s/it]"
     ]
    },
    {
     "name": "stdout",
     "output_type": "stream",
     "text": [
      "gain: 1.253568611489201\n",
      "total score: 12.8242\n",
      "['the', 'night', 'jump'] + ['ornament', 'mistletoe', 'reindeer', 'walk', 'and', 'gingerbread', 'drive', 'chimney', 'fireplace', 'elf']\n"
     ]
    },
    {
     "name": "stderr",
     "output_type": "stream",
     "text": [
      " 74%|███████▎  | 14/19 [03:24<00:57, 11.59s/it]"
     ]
    },
    {
     "name": "stdout",
     "output_type": "stream",
     "text": [
      "gain: 1.2612123861530362\n",
      "total score: 11.5630\n",
      "['ornament', 'mistletoe', 'reindeer', 'walk', 'give', 'and', 'gingerbread', 'drive', 'chimney', 'fireplace', 'elf'] + ['the', 'night', 'jump']\n"
     ]
    },
    {
     "name": "stderr",
     "output_type": "stream",
     "text": [
      " 79%|███████▉  | 15/19 [03:37<00:48, 12.08s/it]"
     ]
    },
    {
     "name": "stdout",
     "output_type": "stream",
     "text": [
      "gain: 1.0451404987059711\n",
      "total score: 10.5178\n",
      "['ornament', 'mistletoe', 'reindeer', 'walk', 'give', 'and', 'advent', 'gingerbread', 'drive', 'chimney', 'fireplace', 'elf'] + ['the', 'night', 'jump']\n"
     ]
    },
    {
     "name": "stderr",
     "output_type": "stream",
     "text": [
      " 84%|████████▍ | 16/19 [03:48<00:35, 11.75s/it]"
     ]
    },
    {
     "name": "stdout",
     "output_type": "stream",
     "text": [
      "gain: 0.8758411440416689\n",
      "total score: 9.6420\n",
      "['ornament', 'mistletoe', 'reindeer', 'walk', 'sleep', 'give', 'and', 'advent', 'gingerbread', 'drive', 'chimney', 'fireplace', 'elf'] + ['the', 'night', 'jump']\n"
     ]
    },
    {
     "name": "stderr",
     "output_type": "stream",
     "text": [
      " 89%|████████▉ | 17/19 [03:54<00:19,  9.85s/it]"
     ]
    },
    {
     "name": "stdout",
     "output_type": "stream",
     "text": [
      "gain: 0.6477063266914289\n",
      "total score: 8.9943\n",
      "['the', 'bake', 'night', 'jump'] + ['ornament', 'mistletoe', 'reindeer', 'walk', 'sleep', 'give', 'and', 'advent', 'gingerbread', 'drive', 'chimney', 'fireplace', 'elf']\n"
     ]
    },
    {
     "name": "stderr",
     "output_type": "stream",
     "text": [
      " 95%|█████████▍| 18/19 [04:01<00:09,  9.18s/it]"
     ]
    },
    {
     "name": "stdout",
     "output_type": "stream",
     "text": [
      "gain: -0.23295132471842095\n",
      "total score: 9.2273\n",
      "['ornament', 'the', 'bake', 'night', 'jump', 'mistletoe', 'reindeer', 'walk', 'sleep', 'give', 'and', 'advent', 'gingerbread', 'drive', 'chimney', 'fireplace', 'elf'] + ['scrooge', 'family']\n"
     ]
    },
    {
     "name": "stderr",
     "output_type": "stream",
     "text": [
      "100%|██████████| 19/19 [04:05<00:00, 12.93s/it]"
     ]
    },
    {
     "name": "stdout",
     "output_type": "stream",
     "text": [
      "gain: 0.47306274872681797\n",
      "total score: 8.7542\n",
      "['ornament', 'the', 'bake', 'night', 'jump', 'mistletoe', 'reindeer', 'walk', 'sleep', 'give', 'and', 'advent', 'gingerbread', 'drive', 'chimney', 'laugh', 'fireplace', 'elf'] + ['scrooge', 'family']\n",
      "score:8.7542\n",
      "number of words: 20\n"
     ]
    },
    {
     "name": "stderr",
     "output_type": "stream",
     "text": [
      "\n",
      "  0%|          | 0/19 [00:00<?, ?it/s]"
     ]
    }
   ],
   "source": [
    "import numpy as np\n",
    "import tqdm\n",
    "\n",
    "score_memo = {}\n",
    "\n",
    "\n",
    "def get_perplexity(words):\n",
    "    if words in score_memo:\n",
    "        return score_memo[words]\n",
    "    score = calculator.get_perplexity(words)\n",
    "    score_memo[words] = score\n",
    "    return score\n",
    "\n",
    "\n",
    "def save_text(n_idx, text, verbose=0):\n",
    "    path_save_idx = path_save / f\"{n_idx:04d}\"\n",
    "    if not path_save_idx.exists():\n",
    "        path_save_idx.mkdir()\n",
    "    score = calculator.get_perplexity(text)\n",
    "    if verbose:\n",
    "        print(f\"score:{score:.4f}\")\n",
    "    path_save_text = path_save_idx / f\"{score:.4f}.txt\"\n",
    "\n",
    "    with path_save_text.open(\"w\") as f:\n",
    "        f.write(text)\n",
    "\n",
    "\n",
    "def greedy(n_idx):\n",
    "    text = df.iloc[n_idx, 1]\n",
    "    words = text.split()\n",
    "\n",
    "    n_words = len(words)\n",
    "    print(f\"number of words: {n_words}\")\n",
    "\n",
    "    state = [([word], get_perplexity(word)) for word in words]\n",
    "\n",
    "    for _ in tqdm.trange(n_words - 1):\n",
    "        assert 1 <= len(state) <= n_words\n",
    "        gain_best = -np.inf\n",
    "        size_state = len(state)\n",
    "        idx_pair_best = None\n",
    "        words_new = None\n",
    "        score_new = None\n",
    "        for i in range(size_state):\n",
    "            for j in range(size_state):\n",
    "                if i == j:\n",
    "                    continue\n",
    "\n",
    "                words1, score1 = state[i]\n",
    "                words2, score2 = state[j]\n",
    "\n",
    "                for k in range(len(words1)):\n",
    "                    words12 = words1[:k] + words2 + words1[k:]\n",
    "                    score12 = get_perplexity(\" \".join(words12))\n",
    "\n",
    "                    gain = score1 + score2 - score12\n",
    "\n",
    "                    if gain > gain_best:\n",
    "                        gain_best = gain\n",
    "                        idx_pair_best = (i, j)\n",
    "                        words_new = words12\n",
    "                        score_new = score12\n",
    "\n",
    "        assert idx_pair_best is not None\n",
    "\n",
    "        state_nxt = []\n",
    "        for i in range(size_state):\n",
    "            if i in idx_pair_best:\n",
    "                continue\n",
    "            state_nxt.append(state[i])\n",
    "        state_nxt.append((words_new, score_new))\n",
    "        state = state_nxt\n",
    "\n",
    "        score_total = sum(score for _, score in state)\n",
    "\n",
    "        print(f\"gain: {gain_best}\")\n",
    "        print(f\"total score: {score_total:.4f}\")\n",
    "        print(f\"{words1} + {words2}\")\n",
    "\n",
    "    assert len(state) == 1\n",
    "    words, score = state[0]\n",
    "\n",
    "    # for i in tqdm.trange(n_words):\n",
    "    #     # best word and best place to insert\n",
    "    #     score_best = np.inf\n",
    "    #     state_best = None\n",
    "    #     word_best = None\n",
    "\n",
    "    #     for word in words_unused:\n",
    "    #         for i in range(len(state) + 1):\n",
    "    #             state_new = state[:i] + [word] + state[i:]\n",
    "    #             score = calculator.get_perplexity(\" \".join(state_new))\n",
    "\n",
    "    #             if score < score_best:\n",
    "    #                 score_best = score\n",
    "    #                 state_best = state_new\n",
    "    #                 word_best = word\n",
    "\n",
    "    #     assert state_best is not None\n",
    "    #     print(f\"best score: {score_best}\")\n",
    "    #     print(f\"added word: {word_best}\")\n",
    "\n",
    "    #     state = state_best\n",
    "    #     words_unused.remove(word_best)\n",
    "    #     words_used.add(word_best)\n",
    "\n",
    "    #     print(state)\n",
    "\n",
    "    # score = calculator.get_perplexity(\" \".join(state))\n",
    "\n",
    "    return words, score\n",
    "\n",
    "\n",
    "for n_idx in range(len(df)):\n",
    "    words, score = greedy(n_idx)\n",
    "    save_text(n_idx, \" \".join(words), verbose=1)"
   ]
  },
  {
   "cell_type": "code",
   "execution_count": null,
   "metadata": {},
   "outputs": [],
   "source": [
    "print(words)"
   ]
  }
 ],
 "metadata": {
  "kernelspec": {
   "display_name": "kaggle3.11-3",
   "language": "python",
   "name": "python3"
  },
  "language_info": {
   "codemirror_mode": {
    "name": "ipython",
    "version": 3
   },
   "file_extension": ".py",
   "mimetype": "text/x-python",
   "name": "python",
   "nbconvert_exporter": "python",
   "pygments_lexer": "ipython3",
   "version": "3.11.9"
  }
 },
 "nbformat": 4,
 "nbformat_minor": 2
}
