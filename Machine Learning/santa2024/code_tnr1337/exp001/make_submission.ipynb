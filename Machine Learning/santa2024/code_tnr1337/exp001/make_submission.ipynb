{
 "cells": [
  {
   "cell_type": "code",
   "execution_count": 1,
   "metadata": {},
   "outputs": [],
   "source": [
    "from pathlib import Path\n",
    "import pandas as pd\n",
    "\n",
    "path_input_csv = Path(\"../../input/santa-2024/sample_submission.csv\")\n",
    "path_save = Path(\"./save\")\n",
    "path_save_submissions = path_save / \"submissions\"\n",
    "path_save_submissions.mkdir(parents=True, exist_ok=True)\n",
    "\n",
    "df = pd.read_csv(path_input_csv)"
   ]
  },
  {
   "cell_type": "code",
   "execution_count": 2,
   "metadata": {},
   "outputs": [],
   "source": [
    "import numpy as np\n",
    "\n",
    "\n",
    "def update_submission():\n",
    "    df_submission = df.copy()\n",
    "\n",
    "    list_scores_submission = []\n",
    "\n",
    "    for n_idx in range(len(df)):\n",
    "        text_original = df.loc[n_idx, \"text\"]\n",
    "        words_original = text_original.split(\" \")\n",
    "\n",
    "        path_save_idx = path_save / f\"{n_idx:04d}\"\n",
    "        # get all of the txt files\n",
    "        path_txt = path_save_idx.glob(\"*.txt\")\n",
    "        list_path_txt = list(path_txt)\n",
    "        if len(list_path_txt) == 0:\n",
    "            print(f\"no txt files in {path_save_idx}\")\n",
    "            continue\n",
    "        # get scores\n",
    "        list_scores = [float(path.stem) for path in list_path_txt]\n",
    "        # print(list_scores)\n",
    "        # get min score\n",
    "        idx_min = np.argmin(list_scores)\n",
    "        score = list_scores[idx_min]\n",
    "        print(idx_min, score)\n",
    "        # get min score path\n",
    "        path_min = list_path_txt[idx_min]\n",
    "        # print(path_min)\n",
    "        # get min score text\n",
    "        text_min = path_min.read_text()\n",
    "        print(text_min)\n",
    "        # get min score words\n",
    "        words_min = text_min.split(\" \")\n",
    "        assert sorted(words_min) == sorted(words_original)\n",
    "\n",
    "        df_submission.loc[n_idx, \"text\"] = text_min\n",
    "\n",
    "        list_scores_submission.append(score)\n",
    "\n",
    "    # save\n",
    "\n",
    "    score_ave = np.mean(list_scores_submission)\n",
    "\n",
    "    print(f\"scores: {list_scores_submission}\")\n",
    "    print(f\"average score: {score_ave}\")\n",
    "\n",
    "    # save\n",
    "    # path_save_submission = path_save / \"submission.csv\"\n",
    "    path_save_submission = path_save_submissions / f\"submission_{score_ave:.6f}.csv\"\n",
    "\n",
    "    df_submission.to_csv(path_save_submission, index=False)\n",
    "\n",
    "\n",
    "def get_best_score_from_submission():\n",
    "    list_path_csv = list(path_save_submissions.glob(\"*.csv\"))\n",
    "    list_score = [float(path.stem.split(\"_\")[-1]) for path in list_path_csv]\n",
    "    idx_best = np.argmin(list_score)\n",
    "    path_best = list_path_csv[idx_best]\n",
    "    print(f\"best score: {list_score[idx_best]}\")\n",
    "    print(f\"best path: {path_best}\")\n",
    "    return path_best, list_score[idx_best]"
   ]
  },
  {
   "cell_type": "code",
   "execution_count": 3,
   "metadata": {},
   "outputs": [],
   "source": [
    "# path_best, score_best = get_best_score_from_submission()"
   ]
  },
  {
   "cell_type": "code",
   "execution_count": 4,
   "metadata": {},
   "outputs": [
    {
     "name": "stdout",
     "output_type": "stream",
     "text": [
      "best score: 281.115967\n",
      "best path: save/submissions/submission_281.115967.csv\n",
      "2 466.6181\n",
      "reindeer mistletoe elf gingerbread ornament family advent scrooge chimney fireplace\n",
      "28 475.3997\n",
      "reindeer sleep walk the night and drive mistletoe scrooge laugh gingerbread bake elf jump ornament give family advent chimney fireplace\n",
      "34 299.2323\n",
      "magi yuletide cheer grinch carol holiday holly jingle naughty nice polar workshop chimney sleigh beard nutcracker ornament decorations gifts stocking\n",
      "50 248.7487\n",
      "ornament yuletide holiday cheer holly jingle relax and unwrap gifts of the magi eat grinch naughty nice nutcracker polar is beard sleigh visit workshop sing carol cheer chimney stocking decorations\n",
      "57 98.4894\n",
      "the of and to in we you that it with as from have not milk eggnog fruitcake cookie chocolate candy peppermint toy doll game puzzle season greeting card wrapping paper bow candle wreath snowglobe fireplace poinsettia angel believe dream wish hope night star wonder joy peace merry hohoho kaggle workshop\n",
      "58 98.2076\n",
      "peppermint toy chocolate milk eggnog fruitcake gingerbread carol night magi holly jingle beard sleigh workshop naughty nice puzzle game unwrap hohoho peace joy cheer cookie star angel snowglobe advent wreath candle chimney chimney elf doll family fireplace fireplace kaggle merry grinch mistletoe nutcracker ornament polar poinsettia reindeer scrooge stocking visit workshop to and of and the in and we is have that it with as not you from sing drive eat walk jump sleep give bake laugh relax wonder wish hope dream believe the night yuletide decorations gifts holiday cheer of the season greeting card ornament wrapping paper bow candy\n",
      "scores: [466.6181, 475.3997, 299.2323, 248.7487, 98.4894, 98.2076]\n",
      "average score: 281.1159666666667\n",
      "best score: 281.115967\n",
      "best path: save/submissions/submission_281.115967.csv\n"
     ]
    }
   ],
   "source": [
    "import subprocess\n",
    "import time\n",
    "\n",
    "while True:\n",
    "    # get best csv\n",
    "\n",
    "    path_best, score_best = get_best_score_from_submission()\n",
    "    update_submission()\n",
    "    path_best_new, score_best_new = get_best_score_from_submission()\n",
    "\n",
    "    if score_best_new < score_best:\n",
    "        print(\"submit new submission\")\n",
    "        print(f\"score best: {score_best} -> {score_best_new}\")\n",
    "\n",
    "        # kaggle competitions submit -c santa-2024 -f submission.csv -m \"Message\"\n",
    "\n",
    "        cmd = f\"kaggle competitions submit -c santa-2024 -f {path_best_new} -m 'submit'\"\n",
    "        print(cmd)\n",
    "        subprocess.run(cmd, shell=True)\n",
    "\n",
    "    # break\n",
    "\n",
    "    time.sleep(60 * 30)"
   ]
  }
 ],
 "metadata": {
  "kernelspec": {
   "display_name": "kaggle3.11-3",
   "language": "python",
   "name": "python3"
  },
  "language_info": {
   "codemirror_mode": {
    "name": "ipython",
    "version": 3
   },
   "file_extension": ".py",
   "mimetype": "text/x-python",
   "name": "python",
   "nbconvert_exporter": "python",
   "pygments_lexer": "ipython3",
   "version": "3.11.9"
  }
 },
 "nbformat": 4,
 "nbformat_minor": 2
}
